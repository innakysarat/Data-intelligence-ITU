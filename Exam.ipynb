{
 "cells": [
  {
   "cell_type": "markdown",
   "id": "11e85398",
   "metadata": {},
   "source": [
    "# Data Intelligence Exam\n",
    "### IT University of Copenhagen - Spring semester 2022\n",
    "Student Inna Tarasyuk | inta@itu.dk | 01/06/2022 || Teacher: Jens Gwen Stein | jeej@itu.dk || Course code: BBDAINT1KU"
   ]
  },
  {
   "cell_type": "markdown",
   "id": "84f78ae2",
   "metadata": {},
   "source": [
    "## Introduction"
   ]
  },
  {
   "cell_type": "markdown",
   "id": "7cb8239a",
   "metadata": {},
   "source": [
    "In this paper, I will conduct a data analysis on the provided dataset \"employee-data.csv\". I will first explore the dataset by obtaining summary statistics to get a sense of what the data holds. Based on the data, I will pose a question and form an intital hypothesis. Next, I will prepare the data for the analysis by cleaning and transforming it in the appropriate form. After the data is preprocessed, I will create a model with the aim of validating or falsifying my hypothesis. Depending on my findings in the analysis section, I will discuss the results and potentially revise my hypothesis. In the end, I will draw a conclusion.\n",
    "\n",
    "Throughout the paper, I will also visualize the data as \"visualizations are especially useful for this in the early stages of analysis.\"(Grant, 2019; p.6). This will strengthen the grasp of the data."
   ]
  },
  {
   "cell_type": "markdown",
   "id": "a9b00648",
   "metadata": {},
   "source": [
    "### Prerequisites (libraries/packages)"
   ]
  },
  {
   "cell_type": "markdown",
   "id": "9f087af4",
   "metadata": {},
   "source": [
    "First I will import python libraries that enable me to manipulate with the data efficiently. When importing packages I will use standard shorthands."
   ]
  },
  {
   "cell_type": "markdown",
   "id": "8c2e9c99",
   "metadata": {},
   "source": [
    "**NumPy**: \n",
    "ibrary that offers comprehensive mathematical functions and facilitates working with arrays flexibly\n",
    "\n",
    "I might need to use NumPy in the analysis section for setting a random state.\n",
    "\n",
    "**Pandas**: \n",
    "package that provides fast and flexible data structures and makes data cleaning and analysis relatively simple\n",
    "\n",
    "In this paper, I use Pandas for loading the data into a dataframe to make it comfortable to work with the given dataset.\n",
    "\n",
    "**Matplotlib**:\n",
    "a plotting library which is used to perform visualizations of the data\n",
    "\n",
    "Matplotlib is used in the data visualization section. \n",
    "\n",
    "**Seaborn**:\n",
    "a visualization library which is based on Matplotlib and enables creating descriptive statistical graphs\n",
    "\n",
    "Seaborn is used to perform visualizations throughout the paper.\n",
    "\n",
    "**Sklearn**: \n",
    "library that contains a lot of efficient tools for machine learning and statistical modeling, including classification, regression, and clustering tools which I will apply in the analysis section."
   ]
  },
  {
   "cell_type": "code",
   "execution_count": 31,
   "id": "c665ef99",
   "metadata": {},
   "outputs": [],
   "source": [
    "import pandas as pd\n",
    "import numpy as np\n",
    "import matplotlib.pyplot as plt\n",
    "import seaborn as sns\n",
    "from sklearn.model_selection import train_test_split #for splitting the data\n",
    "import sklearn.ensemble\n",
    "import sklearn.metrics\n",
    "from sklearn.ensemble import RandomForestClassifier # for building the model\n",
    "from sklearn.metrics import accuracy_score"
   ]
  },
  {
   "cell_type": "markdown",
   "id": "0b8af903",
   "metadata": {},
   "source": [
    "## Data loading and summary statistics "
   ]
  },
  {
   "cell_type": "markdown",
   "id": "87770179",
   "metadata": {},
   "source": [
    "In the following section, I will explore the dataset in question and do some summary statistics to get an initial understanding of it.\n",
    "\n",
    "From opening the file in the textreader we can tell that it is a csv file. To work with it efficiently, I will load the data into a Pandas Dataframe using the read_csv() function and view first and last 5 rows of it."
   ]
  },
  {
   "cell_type": "code",
   "execution_count": 2,
   "id": "6b346f2a",
   "metadata": {},
   "outputs": [],
   "source": [
    "def load_data(path):\n",
    "    return pd.read_csv(path)"
   ]
  },
  {
   "cell_type": "code",
   "execution_count": 280,
   "id": "291d3fd8",
   "metadata": {},
   "outputs": [
    {
     "data": {
      "text/html": [
       "<div>\n",
       "<style scoped>\n",
       "    .dataframe tbody tr th:only-of-type {\n",
       "        vertical-align: middle;\n",
       "    }\n",
       "\n",
       "    .dataframe tbody tr th {\n",
       "        vertical-align: top;\n",
       "    }\n",
       "\n",
       "    .dataframe thead th {\n",
       "        text-align: right;\n",
       "    }\n",
       "</style>\n",
       "<table border=\"1\" class=\"dataframe\">\n",
       "  <thead>\n",
       "    <tr style=\"text-align: right;\">\n",
       "      <th></th>\n",
       "      <th>age</th>\n",
       "      <th>attrition</th>\n",
       "      <th>business-travel</th>\n",
       "      <th>department</th>\n",
       "      <th>distance-from-home</th>\n",
       "      <th>education</th>\n",
       "      <th>education-field</th>\n",
       "      <th>employee-number</th>\n",
       "      <th>environment-satisfaction</th>\n",
       "      <th>gender</th>\n",
       "      <th>...</th>\n",
       "      <th>last-salary-increase-percentage</th>\n",
       "      <th>performance-rating</th>\n",
       "      <th>relationship-satisfaction</th>\n",
       "      <th>stock-option-level</th>\n",
       "      <th>total-working-years</th>\n",
       "      <th>work-life-balance</th>\n",
       "      <th>years-at-company</th>\n",
       "      <th>years-in-current-role</th>\n",
       "      <th>years-since-last-promotion</th>\n",
       "      <th>years-with-current-manager</th>\n",
       "    </tr>\n",
       "  </thead>\n",
       "  <tbody>\n",
       "    <tr>\n",
       "      <th>0</th>\n",
       "      <td>41.0</td>\n",
       "      <td>Yes</td>\n",
       "      <td>Travel_Rarely</td>\n",
       "      <td>Sales</td>\n",
       "      <td>1.0</td>\n",
       "      <td>2.0</td>\n",
       "      <td>Life Sciences</td>\n",
       "      <td>1.0</td>\n",
       "      <td>2.0</td>\n",
       "      <td>Female</td>\n",
       "      <td>...</td>\n",
       "      <td>11.0</td>\n",
       "      <td>3.0</td>\n",
       "      <td>1.0</td>\n",
       "      <td>0.0</td>\n",
       "      <td>8.0</td>\n",
       "      <td>1.0</td>\n",
       "      <td>6.0</td>\n",
       "      <td>4.0</td>\n",
       "      <td>0.0</td>\n",
       "      <td>5.0</td>\n",
       "    </tr>\n",
       "    <tr>\n",
       "      <th>1</th>\n",
       "      <td>49.0</td>\n",
       "      <td>No</td>\n",
       "      <td>Travel_Frequently</td>\n",
       "      <td>Research &amp; Development</td>\n",
       "      <td>8.0</td>\n",
       "      <td>1.0</td>\n",
       "      <td>Life Sciences</td>\n",
       "      <td>2.0</td>\n",
       "      <td>3.0</td>\n",
       "      <td>Male</td>\n",
       "      <td>...</td>\n",
       "      <td>23.0</td>\n",
       "      <td>4.0</td>\n",
       "      <td>4.0</td>\n",
       "      <td>1.0</td>\n",
       "      <td>10.0</td>\n",
       "      <td>3.0</td>\n",
       "      <td>10.0</td>\n",
       "      <td>7.0</td>\n",
       "      <td>1.0</td>\n",
       "      <td>7.0</td>\n",
       "    </tr>\n",
       "    <tr>\n",
       "      <th>2</th>\n",
       "      <td>37.0</td>\n",
       "      <td>Yes</td>\n",
       "      <td>Travel_Rarely</td>\n",
       "      <td>Research &amp; Development</td>\n",
       "      <td>2.0</td>\n",
       "      <td>2.0</td>\n",
       "      <td>Other</td>\n",
       "      <td>4.0</td>\n",
       "      <td>4.0</td>\n",
       "      <td>Male</td>\n",
       "      <td>...</td>\n",
       "      <td>15.0</td>\n",
       "      <td>3.0</td>\n",
       "      <td>2.0</td>\n",
       "      <td>0.0</td>\n",
       "      <td>7.0</td>\n",
       "      <td>3.0</td>\n",
       "      <td>0.0</td>\n",
       "      <td>0.0</td>\n",
       "      <td>0.0</td>\n",
       "      <td>0.0</td>\n",
       "    </tr>\n",
       "    <tr>\n",
       "      <th>3</th>\n",
       "      <td>33.0</td>\n",
       "      <td>No</td>\n",
       "      <td>Travel_Frequently</td>\n",
       "      <td>Research &amp; Development</td>\n",
       "      <td>3.0</td>\n",
       "      <td>4.0</td>\n",
       "      <td>Life Sciences</td>\n",
       "      <td>5.0</td>\n",
       "      <td>4.0</td>\n",
       "      <td>Female</td>\n",
       "      <td>...</td>\n",
       "      <td>11.0</td>\n",
       "      <td>3.0</td>\n",
       "      <td>3.0</td>\n",
       "      <td>0.0</td>\n",
       "      <td>8.0</td>\n",
       "      <td>3.0</td>\n",
       "      <td>8.0</td>\n",
       "      <td>7.0</td>\n",
       "      <td>3.0</td>\n",
       "      <td>0.0</td>\n",
       "    </tr>\n",
       "    <tr>\n",
       "      <th>4</th>\n",
       "      <td>27.0</td>\n",
       "      <td>No</td>\n",
       "      <td>Travel_Rarely</td>\n",
       "      <td>Research &amp; Development</td>\n",
       "      <td>2.0</td>\n",
       "      <td>1.0</td>\n",
       "      <td>Medical</td>\n",
       "      <td>7.0</td>\n",
       "      <td>1.0</td>\n",
       "      <td>Male</td>\n",
       "      <td>...</td>\n",
       "      <td>12.0</td>\n",
       "      <td>3.0</td>\n",
       "      <td>4.0</td>\n",
       "      <td>1.0</td>\n",
       "      <td>6.0</td>\n",
       "      <td>3.0</td>\n",
       "      <td>2.0</td>\n",
       "      <td>2.0</td>\n",
       "      <td>2.0</td>\n",
       "      <td>2.0</td>\n",
       "    </tr>\n",
       "    <tr>\n",
       "      <th>...</th>\n",
       "      <td>...</td>\n",
       "      <td>...</td>\n",
       "      <td>...</td>\n",
       "      <td>...</td>\n",
       "      <td>...</td>\n",
       "      <td>...</td>\n",
       "      <td>...</td>\n",
       "      <td>...</td>\n",
       "      <td>...</td>\n",
       "      <td>...</td>\n",
       "      <td>...</td>\n",
       "      <td>...</td>\n",
       "      <td>...</td>\n",
       "      <td>...</td>\n",
       "      <td>...</td>\n",
       "      <td>...</td>\n",
       "      <td>...</td>\n",
       "      <td>...</td>\n",
       "      <td>...</td>\n",
       "      <td>...</td>\n",
       "      <td>...</td>\n",
       "    </tr>\n",
       "    <tr>\n",
       "      <th>1465</th>\n",
       "      <td>36.0</td>\n",
       "      <td>No</td>\n",
       "      <td>Travel_Frequently</td>\n",
       "      <td>Research &amp; Development</td>\n",
       "      <td>23.0</td>\n",
       "      <td>2.0</td>\n",
       "      <td>Medical</td>\n",
       "      <td>2061.0</td>\n",
       "      <td>3.0</td>\n",
       "      <td>Male</td>\n",
       "      <td>...</td>\n",
       "      <td>17.0</td>\n",
       "      <td>3.0</td>\n",
       "      <td>3.0</td>\n",
       "      <td>1.0</td>\n",
       "      <td>17.0</td>\n",
       "      <td>3.0</td>\n",
       "      <td>5.0</td>\n",
       "      <td>2.0</td>\n",
       "      <td>0.0</td>\n",
       "      <td>3.0</td>\n",
       "    </tr>\n",
       "    <tr>\n",
       "      <th>1466</th>\n",
       "      <td>39.0</td>\n",
       "      <td>No</td>\n",
       "      <td>Travel_Rarely</td>\n",
       "      <td>Research &amp; Development</td>\n",
       "      <td>6.0</td>\n",
       "      <td>1.0</td>\n",
       "      <td>NaN</td>\n",
       "      <td>2062.0</td>\n",
       "      <td>4.0</td>\n",
       "      <td>Male</td>\n",
       "      <td>...</td>\n",
       "      <td>15.0</td>\n",
       "      <td>3.0</td>\n",
       "      <td>1.0</td>\n",
       "      <td>1.0</td>\n",
       "      <td>9.0</td>\n",
       "      <td>3.0</td>\n",
       "      <td>7.0</td>\n",
       "      <td>7.0</td>\n",
       "      <td>1.0</td>\n",
       "      <td>7.0</td>\n",
       "    </tr>\n",
       "    <tr>\n",
       "      <th>1467</th>\n",
       "      <td>27.0</td>\n",
       "      <td>No</td>\n",
       "      <td>Travel_Rarely</td>\n",
       "      <td>Research &amp; Development</td>\n",
       "      <td>4.0</td>\n",
       "      <td>3.0</td>\n",
       "      <td>Life Sciences</td>\n",
       "      <td>2064.0</td>\n",
       "      <td>2.0</td>\n",
       "      <td>Male</td>\n",
       "      <td>...</td>\n",
       "      <td>20.0</td>\n",
       "      <td>4.0</td>\n",
       "      <td>2.0</td>\n",
       "      <td>1.0</td>\n",
       "      <td>6.0</td>\n",
       "      <td>3.0</td>\n",
       "      <td>6.0</td>\n",
       "      <td>2.0</td>\n",
       "      <td>0.0</td>\n",
       "      <td>3.0</td>\n",
       "    </tr>\n",
       "    <tr>\n",
       "      <th>1468</th>\n",
       "      <td>49.0</td>\n",
       "      <td>No</td>\n",
       "      <td>Travel_Frequently</td>\n",
       "      <td>Sales</td>\n",
       "      <td>2.0</td>\n",
       "      <td>3.0</td>\n",
       "      <td>Medical</td>\n",
       "      <td>2065.0</td>\n",
       "      <td>4.0</td>\n",
       "      <td>Male</td>\n",
       "      <td>...</td>\n",
       "      <td>14.0</td>\n",
       "      <td>3.0</td>\n",
       "      <td>4.0</td>\n",
       "      <td>0.0</td>\n",
       "      <td>17.0</td>\n",
       "      <td>2.0</td>\n",
       "      <td>9.0</td>\n",
       "      <td>6.0</td>\n",
       "      <td>0.0</td>\n",
       "      <td>8.0</td>\n",
       "    </tr>\n",
       "    <tr>\n",
       "      <th>1469</th>\n",
       "      <td>34.0</td>\n",
       "      <td>No</td>\n",
       "      <td>Travel_Rarely</td>\n",
       "      <td>Research &amp; Development</td>\n",
       "      <td>8.0</td>\n",
       "      <td>3.0</td>\n",
       "      <td>Medical</td>\n",
       "      <td>2068.0</td>\n",
       "      <td>2.0</td>\n",
       "      <td>Male</td>\n",
       "      <td>...</td>\n",
       "      <td>12.0</td>\n",
       "      <td>3.0</td>\n",
       "      <td>1.0</td>\n",
       "      <td>0.0</td>\n",
       "      <td>6.0</td>\n",
       "      <td>4.0</td>\n",
       "      <td>4.0</td>\n",
       "      <td>3.0</td>\n",
       "      <td>1.0</td>\n",
       "      <td>2.0</td>\n",
       "    </tr>\n",
       "  </tbody>\n",
       "</table>\n",
       "<p>1470 rows × 28 columns</p>\n",
       "</div>"
      ],
      "text/plain": [
       "       age attrition    business-travel              department  \\\n",
       "0     41.0       Yes      Travel_Rarely                   Sales   \n",
       "1     49.0        No  Travel_Frequently  Research & Development   \n",
       "2     37.0       Yes      Travel_Rarely  Research & Development   \n",
       "3     33.0        No  Travel_Frequently  Research & Development   \n",
       "4     27.0        No      Travel_Rarely  Research & Development   \n",
       "...    ...       ...                ...                     ...   \n",
       "1465  36.0        No  Travel_Frequently  Research & Development   \n",
       "1466  39.0        No      Travel_Rarely  Research & Development   \n",
       "1467  27.0        No      Travel_Rarely  Research & Development   \n",
       "1468  49.0        No  Travel_Frequently                   Sales   \n",
       "1469  34.0        No      Travel_Rarely  Research & Development   \n",
       "\n",
       "      distance-from-home  education education-field  employee-number  \\\n",
       "0                    1.0        2.0   Life Sciences              1.0   \n",
       "1                    8.0        1.0   Life Sciences              2.0   \n",
       "2                    2.0        2.0           Other              4.0   \n",
       "3                    3.0        4.0   Life Sciences              5.0   \n",
       "4                    2.0        1.0         Medical              7.0   \n",
       "...                  ...        ...             ...              ...   \n",
       "1465                23.0        2.0         Medical           2061.0   \n",
       "1466                 6.0        1.0             NaN           2062.0   \n",
       "1467                 4.0        3.0   Life Sciences           2064.0   \n",
       "1468                 2.0        3.0         Medical           2065.0   \n",
       "1469                 8.0        3.0         Medical           2068.0   \n",
       "\n",
       "      environment-satisfaction  gender  ...  last-salary-increase-percentage  \\\n",
       "0                          2.0  Female  ...                             11.0   \n",
       "1                          3.0    Male  ...                             23.0   \n",
       "2                          4.0    Male  ...                             15.0   \n",
       "3                          4.0  Female  ...                             11.0   \n",
       "4                          1.0    Male  ...                             12.0   \n",
       "...                        ...     ...  ...                              ...   \n",
       "1465                       3.0    Male  ...                             17.0   \n",
       "1466                       4.0    Male  ...                             15.0   \n",
       "1467                       2.0    Male  ...                             20.0   \n",
       "1468                       4.0    Male  ...                             14.0   \n",
       "1469                       2.0    Male  ...                             12.0   \n",
       "\n",
       "      performance-rating relationship-satisfaction  stock-option-level  \\\n",
       "0                    3.0                       1.0                 0.0   \n",
       "1                    4.0                       4.0                 1.0   \n",
       "2                    3.0                       2.0                 0.0   \n",
       "3                    3.0                       3.0                 0.0   \n",
       "4                    3.0                       4.0                 1.0   \n",
       "...                  ...                       ...                 ...   \n",
       "1465                 3.0                       3.0                 1.0   \n",
       "1466                 3.0                       1.0                 1.0   \n",
       "1467                 4.0                       2.0                 1.0   \n",
       "1468                 3.0                       4.0                 0.0   \n",
       "1469                 3.0                       1.0                 0.0   \n",
       "\n",
       "     total-working-years  work-life-balance  years-at-company  \\\n",
       "0                    8.0                1.0               6.0   \n",
       "1                   10.0                3.0              10.0   \n",
       "2                    7.0                3.0               0.0   \n",
       "3                    8.0                3.0               8.0   \n",
       "4                    6.0                3.0               2.0   \n",
       "...                  ...                ...               ...   \n",
       "1465                17.0                3.0               5.0   \n",
       "1466                 9.0                3.0               7.0   \n",
       "1467                 6.0                3.0               6.0   \n",
       "1468                17.0                2.0               9.0   \n",
       "1469                 6.0                4.0               4.0   \n",
       "\n",
       "     years-in-current-role  years-since-last-promotion  \\\n",
       "0                      4.0                         0.0   \n",
       "1                      7.0                         1.0   \n",
       "2                      0.0                         0.0   \n",
       "3                      7.0                         3.0   \n",
       "4                      2.0                         2.0   \n",
       "...                    ...                         ...   \n",
       "1465                   2.0                         0.0   \n",
       "1466                   7.0                         1.0   \n",
       "1467                   2.0                         0.0   \n",
       "1468                   6.0                         0.0   \n",
       "1469                   3.0                         1.0   \n",
       "\n",
       "      years-with-current-manager  \n",
       "0                            5.0  \n",
       "1                            7.0  \n",
       "2                            0.0  \n",
       "3                            0.0  \n",
       "4                            2.0  \n",
       "...                          ...  \n",
       "1465                         3.0  \n",
       "1466                         7.0  \n",
       "1467                         3.0  \n",
       "1468                         8.0  \n",
       "1469                         2.0  \n",
       "\n",
       "[1470 rows x 28 columns]"
      ]
     },
     "execution_count": 280,
     "metadata": {},
     "output_type": "execute_result"
    }
   ],
   "source": [
    "# Load a dataset into a dataframe and view first and last 5 rows of it\n",
    "df = load_data(\"employee-data.csv\")\n",
    "df"
   ]
  },
  {
   "cell_type": "markdown",
   "id": "dfbfaad2",
   "metadata": {},
   "source": [
    "From the above dataframe, I observe that there are 1470 observations, and each row contains 28 features that will be further investigated."
   ]
  },
  {
   "cell_type": "markdown",
   "id": "8f2466e3",
   "metadata": {},
   "source": [
    "After constructing a dataframe from the data, I first inspect the dataset for the presence of duplicated rows. If it contains those, I will need to drop them since they indicate human errors during data collection/recording and therefore do not hold useful information but might mess up the basic summary statistics that will be obtained later on."
   ]
  },
  {
   "cell_type": "code",
   "execution_count": 4,
   "id": "cbb3fd8a",
   "metadata": {},
   "outputs": [
    {
     "data": {
      "text/html": [
       "<div>\n",
       "<style scoped>\n",
       "    .dataframe tbody tr th:only-of-type {\n",
       "        vertical-align: middle;\n",
       "    }\n",
       "\n",
       "    .dataframe tbody tr th {\n",
       "        vertical-align: top;\n",
       "    }\n",
       "\n",
       "    .dataframe thead th {\n",
       "        text-align: right;\n",
       "    }\n",
       "</style>\n",
       "<table border=\"1\" class=\"dataframe\">\n",
       "  <thead>\n",
       "    <tr style=\"text-align: right;\">\n",
       "      <th></th>\n",
       "      <th>age</th>\n",
       "      <th>attrition</th>\n",
       "      <th>business-travel</th>\n",
       "      <th>department</th>\n",
       "      <th>distance-from-home</th>\n",
       "      <th>education</th>\n",
       "      <th>education-field</th>\n",
       "      <th>employee-number</th>\n",
       "      <th>environment-satisfaction</th>\n",
       "      <th>gender</th>\n",
       "      <th>...</th>\n",
       "      <th>last-salary-increase-percentage</th>\n",
       "      <th>performance-rating</th>\n",
       "      <th>relationship-satisfaction</th>\n",
       "      <th>stock-option-level</th>\n",
       "      <th>total-working-years</th>\n",
       "      <th>work-life-balance</th>\n",
       "      <th>years-at-company</th>\n",
       "      <th>years-in-current-role</th>\n",
       "      <th>years-since-last-promotion</th>\n",
       "      <th>years-with-current-manager</th>\n",
       "    </tr>\n",
       "  </thead>\n",
       "  <tbody>\n",
       "  </tbody>\n",
       "</table>\n",
       "<p>0 rows × 28 columns</p>\n",
       "</div>"
      ],
      "text/plain": [
       "Empty DataFrame\n",
       "Columns: [age, attrition, business-travel, department, distance-from-home, education, education-field, employee-number, environment-satisfaction, gender, job-involvement, job-level, job-role, job-satisfaction, marial-status, monthly-income, number-of-companies-worked-at, over-time, last-salary-increase-percentage, performance-rating, relationship-satisfaction, stock-option-level, total-working-years, work-life-balance, years-at-company, years-in-current-role, years-since-last-promotion, years-with-current-manager]\n",
       "Index: []\n",
       "\n",
       "[0 rows x 28 columns]"
      ]
     },
     "execution_count": 4,
     "metadata": {},
     "output_type": "execute_result"
    }
   ],
   "source": [
    "# Check if the dataset has the duplicated rows\n",
    "df[df.duplicated(keep=False)]"
   ]
  },
  {
   "cell_type": "markdown",
   "id": "8246eaa7",
   "metadata": {},
   "source": [
    "Since there are no duplicates in the dataset, I keep it unchanged."
   ]
  },
  {
   "cell_type": "markdown",
   "id": "8fd92680",
   "metadata": {},
   "source": [
    "In the cell below, I get basic information about columns: their names, data type of each column and null values per column."
   ]
  },
  {
   "cell_type": "code",
   "execution_count": 5,
   "id": "be16a06d",
   "metadata": {},
   "outputs": [
    {
     "name": "stdout",
     "output_type": "stream",
     "text": [
      "<class 'pandas.core.frame.DataFrame'>\n",
      "RangeIndex: 1470 entries, 0 to 1469\n",
      "Data columns (total 28 columns):\n",
      " #   Column                           Non-Null Count  Dtype  \n",
      "---  ------                           --------------  -----  \n",
      " 0   age                              1457 non-null   float64\n",
      " 1   attrition                        1461 non-null   object \n",
      " 2   business-travel                  1464 non-null   object \n",
      " 3   department                       1465 non-null   object \n",
      " 4   distance-from-home               1462 non-null   float64\n",
      " 5   education                        1459 non-null   float64\n",
      " 6   education-field                  1462 non-null   object \n",
      " 7   employee-number                  1464 non-null   float64\n",
      " 8   environment-satisfaction         1464 non-null   float64\n",
      " 9   gender                           1460 non-null   object \n",
      " 10  job-involvement                  1460 non-null   float64\n",
      " 11  job-level                        1464 non-null   float64\n",
      " 12  job-role                         1465 non-null   object \n",
      " 13  job-satisfaction                 1459 non-null   float64\n",
      " 14  marial-status                    1459 non-null   object \n",
      " 15  monthly-income                   1457 non-null   float64\n",
      " 16  number-of-companies-worked-at    1461 non-null   float64\n",
      " 17  over-time                        1457 non-null   object \n",
      " 18  last-salary-increase-percentage  1459 non-null   float64\n",
      " 19  performance-rating               1461 non-null   float64\n",
      " 20  relationship-satisfaction        1464 non-null   float64\n",
      " 21  stock-option-level               1466 non-null   float64\n",
      " 22  total-working-years              1461 non-null   float64\n",
      " 23  work-life-balance                1459 non-null   float64\n",
      " 24  years-at-company                 1461 non-null   float64\n",
      " 25  years-in-current-role            1460 non-null   float64\n",
      " 26  years-since-last-promotion       1467 non-null   float64\n",
      " 27  years-with-current-manager       1460 non-null   float64\n",
      "dtypes: float64(20), object(8)\n",
      "memory usage: 321.7+ KB\n"
     ]
    }
   ],
   "source": [
    "# Find out the index dtype and columns, non-null values and memory usage\n",
    "df.info()"
   ]
  },
  {
   "cell_type": "markdown",
   "id": "a9083064",
   "metadata": {},
   "source": [
    "Since the dataset has 1470 entries, the columns with less entries than 1470 have missing values. I thus conclude that each column lacks values."
   ]
  },
  {
   "cell_type": "markdown",
   "id": "d6ff8240",
   "metadata": {},
   "source": [
    "In the next two cells, I get descriptive statistics of those columns which have numeric data types and visualize them on a box plot. It will give me information about the values range and some other statistics about the feature that I will further use in the description section. "
   ]
  },
  {
   "cell_type": "code",
   "execution_count": 7,
   "id": "fe2c9448",
   "metadata": {},
   "outputs": [
    {
     "data": {
      "text/html": [
       "<div>\n",
       "<style scoped>\n",
       "    .dataframe tbody tr th:only-of-type {\n",
       "        vertical-align: middle;\n",
       "    }\n",
       "\n",
       "    .dataframe tbody tr th {\n",
       "        vertical-align: top;\n",
       "    }\n",
       "\n",
       "    .dataframe thead th {\n",
       "        text-align: right;\n",
       "    }\n",
       "</style>\n",
       "<table border=\"1\" class=\"dataframe\">\n",
       "  <thead>\n",
       "    <tr style=\"text-align: right;\">\n",
       "      <th></th>\n",
       "      <th>age</th>\n",
       "      <th>distance-from-home</th>\n",
       "      <th>education</th>\n",
       "      <th>employee-number</th>\n",
       "      <th>environment-satisfaction</th>\n",
       "      <th>job-involvement</th>\n",
       "      <th>job-level</th>\n",
       "      <th>job-satisfaction</th>\n",
       "      <th>monthly-income</th>\n",
       "      <th>number-of-companies-worked-at</th>\n",
       "      <th>last-salary-increase-percentage</th>\n",
       "      <th>performance-rating</th>\n",
       "      <th>relationship-satisfaction</th>\n",
       "      <th>stock-option-level</th>\n",
       "      <th>total-working-years</th>\n",
       "      <th>work-life-balance</th>\n",
       "      <th>years-at-company</th>\n",
       "      <th>years-in-current-role</th>\n",
       "      <th>years-since-last-promotion</th>\n",
       "      <th>years-with-current-manager</th>\n",
       "    </tr>\n",
       "  </thead>\n",
       "  <tbody>\n",
       "    <tr>\n",
       "      <th>count</th>\n",
       "      <td>1457.000000</td>\n",
       "      <td>1462.000000</td>\n",
       "      <td>1459.000000</td>\n",
       "      <td>1464.000000</td>\n",
       "      <td>1464.000000</td>\n",
       "      <td>1460.000000</td>\n",
       "      <td>1464.000000</td>\n",
       "      <td>1459.000000</td>\n",
       "      <td>1457.000000</td>\n",
       "      <td>1461.000000</td>\n",
       "      <td>1459.000000</td>\n",
       "      <td>1461.000000</td>\n",
       "      <td>1464.000000</td>\n",
       "      <td>1466.000000</td>\n",
       "      <td>1461.000000</td>\n",
       "      <td>1459.000000</td>\n",
       "      <td>1461.00000</td>\n",
       "      <td>1460.000000</td>\n",
       "      <td>1467.000000</td>\n",
       "      <td>1460.000000</td>\n",
       "    </tr>\n",
       "    <tr>\n",
       "      <th>mean</th>\n",
       "      <td>36.923130</td>\n",
       "      <td>9.175103</td>\n",
       "      <td>2.914325</td>\n",
       "      <td>1024.454918</td>\n",
       "      <td>2.721995</td>\n",
       "      <td>2.729452</td>\n",
       "      <td>2.064891</td>\n",
       "      <td>2.728581</td>\n",
       "      <td>6502.233356</td>\n",
       "      <td>2.682409</td>\n",
       "      <td>15.196710</td>\n",
       "      <td>3.153320</td>\n",
       "      <td>2.709699</td>\n",
       "      <td>0.793315</td>\n",
       "      <td>11.275154</td>\n",
       "      <td>2.760795</td>\n",
       "      <td>7.03217</td>\n",
       "      <td>4.229452</td>\n",
       "      <td>2.187457</td>\n",
       "      <td>4.127397</td>\n",
       "    </tr>\n",
       "    <tr>\n",
       "      <th>std</th>\n",
       "      <td>9.142019</td>\n",
       "      <td>8.106798</td>\n",
       "      <td>1.023821</td>\n",
       "      <td>601.947388</td>\n",
       "      <td>1.093025</td>\n",
       "      <td>0.711279</td>\n",
       "      <td>1.108235</td>\n",
       "      <td>1.101974</td>\n",
       "      <td>4701.966124</td>\n",
       "      <td>2.484836</td>\n",
       "      <td>3.653976</td>\n",
       "      <td>0.360419</td>\n",
       "      <td>1.081638</td>\n",
       "      <td>0.852371</td>\n",
       "      <td>7.781405</td>\n",
       "      <td>0.707358</td>\n",
       "      <td>6.13621</td>\n",
       "      <td>3.627642</td>\n",
       "      <td>3.222263</td>\n",
       "      <td>3.566878</td>\n",
       "    </tr>\n",
       "    <tr>\n",
       "      <th>min</th>\n",
       "      <td>18.000000</td>\n",
       "      <td>1.000000</td>\n",
       "      <td>1.000000</td>\n",
       "      <td>1.000000</td>\n",
       "      <td>1.000000</td>\n",
       "      <td>1.000000</td>\n",
       "      <td>1.000000</td>\n",
       "      <td>1.000000</td>\n",
       "      <td>1009.000000</td>\n",
       "      <td>0.000000</td>\n",
       "      <td>11.000000</td>\n",
       "      <td>3.000000</td>\n",
       "      <td>1.000000</td>\n",
       "      <td>0.000000</td>\n",
       "      <td>0.000000</td>\n",
       "      <td>1.000000</td>\n",
       "      <td>0.00000</td>\n",
       "      <td>0.000000</td>\n",
       "      <td>0.000000</td>\n",
       "      <td>0.000000</td>\n",
       "    </tr>\n",
       "    <tr>\n",
       "      <th>25%</th>\n",
       "      <td>30.000000</td>\n",
       "      <td>2.000000</td>\n",
       "      <td>2.000000</td>\n",
       "      <td>490.250000</td>\n",
       "      <td>2.000000</td>\n",
       "      <td>2.000000</td>\n",
       "      <td>1.000000</td>\n",
       "      <td>2.000000</td>\n",
       "      <td>2911.000000</td>\n",
       "      <td>1.000000</td>\n",
       "      <td>12.000000</td>\n",
       "      <td>3.000000</td>\n",
       "      <td>2.000000</td>\n",
       "      <td>0.000000</td>\n",
       "      <td>6.000000</td>\n",
       "      <td>2.000000</td>\n",
       "      <td>3.00000</td>\n",
       "      <td>2.000000</td>\n",
       "      <td>0.000000</td>\n",
       "      <td>2.000000</td>\n",
       "    </tr>\n",
       "    <tr>\n",
       "      <th>50%</th>\n",
       "      <td>36.000000</td>\n",
       "      <td>7.000000</td>\n",
       "      <td>3.000000</td>\n",
       "      <td>1020.500000</td>\n",
       "      <td>3.000000</td>\n",
       "      <td>3.000000</td>\n",
       "      <td>2.000000</td>\n",
       "      <td>3.000000</td>\n",
       "      <td>4930.000000</td>\n",
       "      <td>2.000000</td>\n",
       "      <td>14.000000</td>\n",
       "      <td>3.000000</td>\n",
       "      <td>3.000000</td>\n",
       "      <td>1.000000</td>\n",
       "      <td>10.000000</td>\n",
       "      <td>3.000000</td>\n",
       "      <td>5.00000</td>\n",
       "      <td>3.000000</td>\n",
       "      <td>1.000000</td>\n",
       "      <td>3.000000</td>\n",
       "    </tr>\n",
       "    <tr>\n",
       "      <th>75%</th>\n",
       "      <td>43.000000</td>\n",
       "      <td>14.000000</td>\n",
       "      <td>4.000000</td>\n",
       "      <td>1555.250000</td>\n",
       "      <td>4.000000</td>\n",
       "      <td>3.000000</td>\n",
       "      <td>3.000000</td>\n",
       "      <td>4.000000</td>\n",
       "      <td>8380.000000</td>\n",
       "      <td>4.000000</td>\n",
       "      <td>18.000000</td>\n",
       "      <td>3.000000</td>\n",
       "      <td>4.000000</td>\n",
       "      <td>1.000000</td>\n",
       "      <td>15.000000</td>\n",
       "      <td>3.000000</td>\n",
       "      <td>10.00000</td>\n",
       "      <td>7.000000</td>\n",
       "      <td>3.000000</td>\n",
       "      <td>7.000000</td>\n",
       "    </tr>\n",
       "    <tr>\n",
       "      <th>max</th>\n",
       "      <td>60.000000</td>\n",
       "      <td>29.000000</td>\n",
       "      <td>5.000000</td>\n",
       "      <td>2068.000000</td>\n",
       "      <td>4.000000</td>\n",
       "      <td>4.000000</td>\n",
       "      <td>5.000000</td>\n",
       "      <td>4.000000</td>\n",
       "      <td>19999.000000</td>\n",
       "      <td>9.000000</td>\n",
       "      <td>25.000000</td>\n",
       "      <td>4.000000</td>\n",
       "      <td>4.000000</td>\n",
       "      <td>3.000000</td>\n",
       "      <td>40.000000</td>\n",
       "      <td>4.000000</td>\n",
       "      <td>40.00000</td>\n",
       "      <td>18.000000</td>\n",
       "      <td>15.000000</td>\n",
       "      <td>17.000000</td>\n",
       "    </tr>\n",
       "  </tbody>\n",
       "</table>\n",
       "</div>"
      ],
      "text/plain": [
       "               age  distance-from-home    education  employee-number  \\\n",
       "count  1457.000000         1462.000000  1459.000000      1464.000000   \n",
       "mean     36.923130            9.175103     2.914325      1024.454918   \n",
       "std       9.142019            8.106798     1.023821       601.947388   \n",
       "min      18.000000            1.000000     1.000000         1.000000   \n",
       "25%      30.000000            2.000000     2.000000       490.250000   \n",
       "50%      36.000000            7.000000     3.000000      1020.500000   \n",
       "75%      43.000000           14.000000     4.000000      1555.250000   \n",
       "max      60.000000           29.000000     5.000000      2068.000000   \n",
       "\n",
       "       environment-satisfaction  job-involvement    job-level  \\\n",
       "count               1464.000000      1460.000000  1464.000000   \n",
       "mean                   2.721995         2.729452     2.064891   \n",
       "std                    1.093025         0.711279     1.108235   \n",
       "min                    1.000000         1.000000     1.000000   \n",
       "25%                    2.000000         2.000000     1.000000   \n",
       "50%                    3.000000         3.000000     2.000000   \n",
       "75%                    4.000000         3.000000     3.000000   \n",
       "max                    4.000000         4.000000     5.000000   \n",
       "\n",
       "       job-satisfaction  monthly-income  number-of-companies-worked-at  \\\n",
       "count       1459.000000     1457.000000                    1461.000000   \n",
       "mean           2.728581     6502.233356                       2.682409   \n",
       "std            1.101974     4701.966124                       2.484836   \n",
       "min            1.000000     1009.000000                       0.000000   \n",
       "25%            2.000000     2911.000000                       1.000000   \n",
       "50%            3.000000     4930.000000                       2.000000   \n",
       "75%            4.000000     8380.000000                       4.000000   \n",
       "max            4.000000    19999.000000                       9.000000   \n",
       "\n",
       "       last-salary-increase-percentage  performance-rating  \\\n",
       "count                      1459.000000         1461.000000   \n",
       "mean                         15.196710            3.153320   \n",
       "std                           3.653976            0.360419   \n",
       "min                          11.000000            3.000000   \n",
       "25%                          12.000000            3.000000   \n",
       "50%                          14.000000            3.000000   \n",
       "75%                          18.000000            3.000000   \n",
       "max                          25.000000            4.000000   \n",
       "\n",
       "       relationship-satisfaction  stock-option-level  total-working-years  \\\n",
       "count                1464.000000         1466.000000          1461.000000   \n",
       "mean                    2.709699            0.793315            11.275154   \n",
       "std                     1.081638            0.852371             7.781405   \n",
       "min                     1.000000            0.000000             0.000000   \n",
       "25%                     2.000000            0.000000             6.000000   \n",
       "50%                     3.000000            1.000000            10.000000   \n",
       "75%                     4.000000            1.000000            15.000000   \n",
       "max                     4.000000            3.000000            40.000000   \n",
       "\n",
       "       work-life-balance  years-at-company  years-in-current-role  \\\n",
       "count        1459.000000        1461.00000            1460.000000   \n",
       "mean            2.760795           7.03217               4.229452   \n",
       "std             0.707358           6.13621               3.627642   \n",
       "min             1.000000           0.00000               0.000000   \n",
       "25%             2.000000           3.00000               2.000000   \n",
       "50%             3.000000           5.00000               3.000000   \n",
       "75%             3.000000          10.00000               7.000000   \n",
       "max             4.000000          40.00000              18.000000   \n",
       "\n",
       "       years-since-last-promotion  years-with-current-manager  \n",
       "count                 1467.000000                 1460.000000  \n",
       "mean                     2.187457                    4.127397  \n",
       "std                      3.222263                    3.566878  \n",
       "min                      0.000000                    0.000000  \n",
       "25%                      0.000000                    2.000000  \n",
       "50%                      1.000000                    3.000000  \n",
       "75%                      3.000000                    7.000000  \n",
       "max                     15.000000                   17.000000  "
      ]
     },
     "execution_count": 7,
     "metadata": {},
     "output_type": "execute_result"
    }
   ],
   "source": [
    "df.describe()"
   ]
  },
  {
   "cell_type": "code",
   "execution_count": 8,
   "id": "891109be",
   "metadata": {},
   "outputs": [
    {
     "data": {
      "text/plain": [
       "<AxesSubplot:>"
      ]
     },
     "execution_count": 8,
     "metadata": {},
     "output_type": "execute_result"
    },
    {
     "data": {
      "image/png": "[encoded data removed]",
      "text/plain": [
       "<Figure size 432x288 with 1 Axes>"
      ]
     },
     "metadata": {
      "needs_background": "light"
     },
     "output_type": "display_data"
    }
   ],
   "source": [
    "df.boxplot(vert=False)"
   ]
  },
  {
   "cell_type": "markdown",
   "id": "77a02b54",
   "metadata": {},
   "source": [
    "I observe that there are 20 features containing values as float data types. From the above box plot we can hardly see any valuable information apart from the fact that range of most columns fluctuates around zero (except the \"monthly-income\" feature that reaches the value of nearly 20000 and the \"employee-number\" column with the highest number of around 2100). Since many variables vary a little, I can suggest that most of them are ordinal variables."
   ]
  },
  {
   "cell_type": "markdown",
   "id": "dda926dc",
   "metadata": {},
   "source": [
    "To get a basic overview of values in the columns, I create the get_column_values function. Since it is more convenient to analyze the sorted array of numeric values rather than unsorted, I also apply the sorted function to those columns that hold numeric data. "
   ]
  },
  {
   "cell_type": "code",
   "execution_count": 69,
   "id": "a7a46fa8",
   "metadata": {},
   "outputs": [],
   "source": [
    "def get_column_values(dataframe, column, is_numeric):\n",
    "    print (\"Column name: \", column)\n",
    "    values = dataframe[column].unique()\n",
    "    size = len(values)\n",
    "    values = sorted(values) if (is_numeric and size < 100) else values\n",
    "    print(\"Unique values: \", values)"
   ]
  },
  {
   "cell_type": "markdown",
   "id": "1a450034",
   "metadata": {},
   "source": [
    "To make the above function work properly, I need an auxilary function that determines whether a column contains numeric data or not and returns an array of boolean values as a mask (each value in the returned array states if the condition is met for the particular column). "
   ]
  },
  {
   "cell_type": "code",
   "execution_count": 56,
   "id": "0b5f1b27",
   "metadata": {},
   "outputs": [],
   "source": [
    "def is_numeric(dataframe):\n",
    "    is_number = np.vectorize(lambda x: np.issubdtype(x, np.number))\n",
    "    return is_number(df.dtypes)"
   ]
  },
  {
   "cell_type": "markdown",
   "id": "c2f5cf7b",
   "metadata": {},
   "source": [
    "Then I apply the created function to my dataset to get the array of boolean values."
   ]
  },
  {
   "cell_type": "code",
   "execution_count": 71,
   "id": "5be8528c",
   "metadata": {},
   "outputs": [
    {
     "data": {
      "text/plain": [
       "array([ True, False, False, False,  True,  True, False,  True,  True,\n",
       "       False,  True,  True, False,  True, False,  True,  True, False,\n",
       "        True,  True,  True,  True,  True,  True,  True,  True,  True,\n",
       "        True])"
      ]
     },
     "execution_count": 71,
     "metadata": {},
     "output_type": "execute_result"
    }
   ],
   "source": [
    "numeric = is_numeric(df)\n",
    "numeric"
   ]
  },
  {
   "cell_type": "markdown",
   "id": "f868c10a",
   "metadata": {},
   "source": [
    "Below I iterate through the columns in the dataset and print the basic information about each column. In the next section I will use this information to describe the columns that the dataset contains. "
   ]
  },
  {
   "cell_type": "code",
   "execution_count": 70,
   "id": "a0820aa0",
   "metadata": {},
   "outputs": [
    {
     "name": "stdout",
     "output_type": "stream",
     "text": [
      "Column name:  age\n",
      "Unique values:  [18.0, 19.0, 20.0, 21.0, 22.0, 23.0, 24.0, 25.0, 26.0, 27.0, 28.0, 29.0, 30.0, 31.0, 32.0, 33.0, 34.0, 35.0, 36.0, 37.0, 38.0, 39.0, 40.0, 41.0, 42.0, 43.0, 44.0, 45.0, 46.0, 47.0, 48.0, 49.0, 50.0, 51.0, 52.0, 53.0, 54.0, 55.0, 56.0, 57.0, 58.0, 59.0, nan, 60.0]\n",
      "\n",
      "Column name:  attrition\n",
      "Unique values:  ['Yes' 'No' nan]\n",
      "\n",
      "Column name:  business-travel\n",
      "Unique values:  ['Travel_Rarely' 'Travel_Frequently' 'Non-Travel' nan]\n",
      "\n",
      "Column name:  department\n",
      "Unique values:  ['Sales' 'Research & Development' 'Human Resources' nan]\n",
      "\n",
      "Column name:  distance-from-home\n",
      "Unique values:  [1.0, 2.0, 3.0, 4.0, 5.0, 6.0, 7.0, 8.0, 9.0, 10.0, 11.0, 12.0, 13.0, 14.0, 15.0, 16.0, 17.0, 18.0, 19.0, 20.0, 21.0, 22.0, 23.0, 24.0, 25.0, 26.0, 27.0, 28.0, 29.0, nan]\n",
      "\n",
      "Column name:  education\n",
      "Unique values:  [1.0, 2.0, 3.0, 4.0, nan, 5.0]\n",
      "\n",
      "Column name:  education-field\n",
      "Unique values:  ['Life Sciences' 'Other' 'Medical' nan 'Marketing' 'Technical Degree'\n",
      " 'Human Resources']\n",
      "\n",
      "Column name:  employee-number\n",
      "Unique values:  [1.000e+00 2.000e+00 4.000e+00 ... 2.064e+03 2.065e+03 2.068e+03]\n",
      "\n",
      "Column name:  environment-satisfaction\n",
      "Unique values:  [1.0, 2.0, 3.0, 4.0, nan]\n",
      "\n",
      "Column name:  gender\n",
      "Unique values:  ['Female' 'Male' nan]\n",
      "\n",
      "Column name:  job-involvement\n",
      "Unique values:  [1.0, 2.0, 3.0, 4.0, nan]\n",
      "\n",
      "Column name:  job-level\n",
      "Unique values:  [1.0, 2.0, 3.0, 4.0, 5.0, nan]\n",
      "\n",
      "Column name:  job-role\n",
      "Unique values:  ['Sales Executive' 'Research Scientist' 'Laboratory Technician'\n",
      " 'Manufacturing Director' 'Healthcare Representative' 'Manager'\n",
      " 'Sales Representative' 'Research Director' 'Human Resources' nan]\n",
      "\n",
      "Column name:  job-satisfaction\n",
      "Unique values:  [1.0, 2.0, 3.0, 4.0, nan]\n",
      "\n",
      "Column name:  marial-status\n",
      "Unique values:  ['Single' 'Married' 'Divorced' nan]\n",
      "\n",
      "Column name:  monthly-income\n",
      "Unique values:  [5993. 5130. 2090. ... 9991. 5390. 4404.]\n",
      "\n",
      "Column name:  number-of-companies-worked-at\n",
      "Unique values:  [0.0, 1.0, 2.0, 3.0, 4.0, 5.0, 6.0, 7.0, 8.0, 9.0, nan]\n",
      "\n",
      "Column name:  over-time\n",
      "Unique values:  ['Yes' 'No' nan]\n",
      "\n",
      "Column name:  last-salary-increase-percentage\n",
      "Unique values:  [11.0, 12.0, 13.0, 14.0, 15.0, 16.0, 17.0, 18.0, 19.0, 20.0, 21.0, 22.0, 23.0, nan, 24.0, 25.0]\n",
      "\n",
      "Column name:  performance-rating\n",
      "Unique values:  [3.0, 4.0, nan]\n",
      "\n",
      "Column name:  relationship-satisfaction\n",
      "Unique values:  [1.0, 2.0, 3.0, 4.0, nan]\n",
      "\n",
      "Column name:  stock-option-level\n",
      "Unique values:  [0.0, 1.0, 2.0, 3.0, nan]\n",
      "\n",
      "Column name:  total-working-years\n",
      "Unique values:  [0.0, 1.0, 2.0, 3.0, 4.0, 5.0, 6.0, 7.0, 8.0, 9.0, 10.0, 11.0, 12.0, 13.0, 14.0, 15.0, 16.0, 17.0, 18.0, 19.0, 20.0, 21.0, 22.0, 23.0, 24.0, 25.0, 26.0, 27.0, 28.0, 29.0, 30.0, 31.0, 32.0, 33.0, 34.0, 35.0, 36.0, 37.0, 38.0, 40.0, nan]\n",
      "\n",
      "Column name:  work-life-balance\n",
      "Unique values:  [1.0, 2.0, 3.0, nan, 4.0]\n",
      "\n",
      "Column name:  years-at-company\n",
      "Unique values:  [0.0, 1.0, 2.0, 3.0, 4.0, 5.0, 6.0, 7.0, 8.0, 9.0, 10.0, 11.0, 12.0, 13.0, 14.0, 15.0, 16.0, 17.0, 18.0, 19.0, 20.0, 21.0, 22.0, 23.0, 24.0, 25.0, 26.0, 27.0, 29.0, 30.0, 31.0, 32.0, 33.0, 34.0, 36.0, 37.0, 40.0, nan]\n",
      "\n",
      "Column name:  years-in-current-role\n",
      "Unique values:  [0.0, 1.0, 2.0, 3.0, 4.0, 5.0, 6.0, 7.0, 8.0, 9.0, 10.0, 11.0, 12.0, 13.0, 14.0, 15.0, 16.0, 17.0, 18.0, nan]\n",
      "\n",
      "Column name:  years-since-last-promotion\n",
      "Unique values:  [0.0, 1.0, 2.0, 3.0, 4.0, 5.0, 6.0, 7.0, 8.0, 9.0, 10.0, 11.0, 12.0, 13.0, 14.0, 15.0, nan]\n",
      "\n",
      "Column name:  years-with-current-manager\n",
      "Unique values:  [0.0, 1.0, 2.0, 3.0, 4.0, 5.0, 6.0, 7.0, 8.0, 9.0, 10.0, 11.0, 12.0, 13.0, 14.0, 15.0, 16.0, 17.0, nan]\n",
      "\n"
     ]
    }
   ],
   "source": [
    "i = 0\n",
    "for column in df:\n",
    "    get_column_values(df, column, numeric[i])\n",
    "    i += 1\n",
    "    print()"
   ]
  },
  {
   "cell_type": "markdown",
   "id": "8c5c0960",
   "metadata": {},
   "source": [
    "## Description of the data"
   ]
  },
  {
   "cell_type": "markdown",
   "id": "cc086b7d",
   "metadata": {},
   "source": [
    "In this section, I will describe the given dataset (employee-data.csv) by analyzing the data itself, its size, and its type in order to get a sense of what the data holds, and what the context it is placed in.\n",
    "\n",
    "The given dataset comprises 1470 observations with 28 columns. Each observation consists of the data about an employee of the company. The source of the dataset is not given, but I assume that the dataset was either scraped from or exported from a database of an employment website that contains the data on the staff of a specific company.\n",
    "\n",
    "The dataset contains the following columns:\n",
    "\n",
    "\n",
    "**0. age** \n",
    "\n",
    "The column represents an age of an employee and ranges between 18 to 60.\n",
    "\n",
    "type: float64\n",
    "\n",
    "**1. attrition**\n",
    "\n",
    "The attrition column presents a binary variable that indicates whether an employee has left the company. \n",
    "\n",
    "type: object\n",
    "\n",
    "**2. business-travel**\n",
    "\n",
    "The column presents a categorical variable that shows the frequency of employee's traveling (non-travel, rarely travel, or frequently travel)\n",
    "\n",
    "type: object\n",
    "\n",
    "**3. department**\n",
    "\n",
    "The column contains nominal category-variables that gives information about department of an employee ('Sales', 'Research & Development', 'Human Resources')\n",
    "\n",
    "type: object\n",
    "\n",
    "**4. distance-from-home**\n",
    "\n",
    "The column shows how far this employee lives from their workplace. The variable ranges from 1 to 29.\n",
    "\n",
    "type: float64\n",
    "\n",
    "**5. education**\n",
    "\n",
    "The column represents the level of education of the employee and ranges from 1, lowest, to 5, highest.\n",
    "\n",
    "type: float64\n",
    "\n",
    "**6. education-field**\n",
    "\n",
    "The column contains nominal variables that gives information about the education field of the employee. The feature is classified into 6 categories: 'Life Sciences', 'Medical', 'Marketing', 'Technical Degree', 'Human Resources', 'Other'\n",
    "\n",
    "type: object\n",
    "\n",
    "**7. employee-number**\n",
    "\n",
    "The column gives an internal id number to each of the employee.\n",
    "\n",
    "type: float64\n",
    "\n",
    "**8 & 13 & 20. environment-satisfaction & job-satisfaction & relationship-satisfaction**\n",
    "\n",
    "There are three columns containing ordinal variables which describe the level of satisfaction with the work environment/job/ their family relationship. The columns have 4 categories: from 1, lowest, to 4, highest\n",
    "\n",
    "type: float64\n",
    "\n",
    "**9. gender**\n",
    "\n",
    "The gender column is a nominal variable that gives information about the gender of the employee(\"Male\" or \"Female\").\n",
    "\n",
    "type: object\n",
    "\n",
    "**10. job-involvement**\n",
    "\n",
    "The job involvement column contains ordinal variables that desribe the level of involvement; ranges from 1, lowest, to 4, highest\n",
    "\n",
    "type: float64\n",
    "\n",
    "**11. job-level**\n",
    "\n",
    "The job-level column is also an ordinal variable that indicates the relative level or seniority of this employee's job. The values range from 1 to 5, indicating the level of employee's job.\n",
    "\n",
    "type: float64\n",
    "\n",
    "**12. job-role**\n",
    "\n",
    "The job role column contains nominal variables which describe the role. The feature is classified into 9 categories:  'Sales Executive', 'Research Scientist', 'Laboratory Technician', 'Manufacturing Director', 'Healthcare Representative', 'Manager', 'Sales Representative', 'Research Director', 'Human Resources'\n",
    "\n",
    "type: object\n",
    "\n",
    "**14. marial-status**\n",
    "\n",
    "The column is a nominal variable that has 3 categories: \"Single\", \"Married\", \"Divorced\"\n",
    "\n",
    "type: object\n",
    "\n",
    "**15. monthly-income**\n",
    "\n",
    "The monthly income column is a numeric variable that ranges from 1009.0 to 19999.0 and is represented as float values.\n",
    "\n",
    "type: float64\n",
    "\n",
    "**16. number-of-companies-worked-at**\n",
    "\n",
    "The column gives information about the number of companies the employee has worked at. The values range from 0 to 9. \n",
    "\n",
    "**17. over-time**\n",
    "\n",
    "The over time column is a binary variable that provides information about whether or not the employee regularly works overtime. \n",
    "\n",
    "type: object\n",
    "\n",
    "**18. last-salary-increase-percentage**\n",
    "\n",
    "The column indicates the percentage of last salary increase. The values range from 11 to 25. \n",
    "\n",
    "type: float64\n",
    "\n",
    "**19. performance-rating**\n",
    "\n",
    "The column describes how this employee is rated by their manager. \n",
    "\n",
    "type: float64\n",
    "\n",
    "**21. stock-option-level**\n",
    "\n",
    "The column is an ordinal variable that shows how many options relatively the employee has in their company, from 0, lowest, to 3, highest\n",
    "\n",
    "type: float64\n",
    "\n",
    "\n",
    "**22. total-working-years**\n",
    "\n",
    "The column contains numeric variables in form of discrete values (which can be counted). The values range from 0 to 40 years of work.\n",
    "\n",
    "type: float64\n",
    "\n",
    "**23. work-life-balance**\n",
    "\n",
    "The column contains ordinal variables, indicating how good the work-life balance the employee has. It has 4 categories: from 1, lowest, to 4, highest.\n",
    "\n",
    "type: float64\n",
    "\n",
    "**24. years-at-company**\n",
    "\n",
    "The column shows hom many years the employee has been working in the company. It is a numeric variable that ranges from 0 to 40 years.\n",
    "\n",
    "type: float64\n",
    "\n",
    "**25. years-in-current-role**\n",
    "\n",
    "The column is a numeric variable that represents the number of years the employee has been working in the current role. The values range from 0 to 18. \n",
    "\n",
    "type: float64\n",
    "\n",
    "**26. years-since-last-promotion**\n",
    "\n",
    "The column contains numeric variables which describe how long it has been since the employee has been promoted. The values range from 0 to 15 years.\n",
    "\n",
    "type: float64\n",
    "\n",
    "**27. years-with-current-manager**\n",
    "\n",
    "The column is a numeric variable that indicates the number of years the employee has been working with the current manager and ranges from 0 to 17.\n",
    "\n",
    "type: float64"
   ]
  },
  {
   "cell_type": "markdown",
   "id": "9ae5aa30",
   "metadata": {},
   "source": [
    "## Research question and hypothesis"
   ]
  },
  {
   "cell_type": "markdown",
   "id": "9a854b6c",
   "metadata": {},
   "source": [
    "Investigating the dataset has raised the question which factors have the highest influence on the attrition variable. \n",
    "\n",
    "The high staff turnover is regarded as a key issue for many companies since it may have a negative impact on company’s performance. Therefore knowing the main factors that affect the employee attrition rate could be extremely helpful for the leader of the company as it may enable him to take relevant measures to reduce it.\n",
    "\n",
    "Since employee-number is unique to individuals itself, and can therefore not be generalized, I will not consider this feature for including in my model. Other features may take place in my model but I will focus my analysis on determining main variables out of all that give the best prediction of the target variable.\n",
    "\n",
    "First, I expect monthly income to be leading cause of turnover as people tend to leave their current companies for those that offer higher salaries and give more career opportunities. I also assume income is highly correlated with job level and will therefore choose not to include the latter feature in the model, even though it may have impact on the target variable.\n",
    "\n",
    "Additionally, I suppose that environment satisfaction has also a high influence on the attrition rate since if a person is surrounded by good company culture and various facilities, he is less likely to quit. I do suppose that the environment satisfaction has a high correlation with job satisfaction and therefore the latter one will not be included in my intital model. However, it will be interesting to see whether two those features have approximately the same influence on the staff turnover. \n",
    "\n",
    "Finally, based on my knowledge, I assume that young people are more likely to change jobs as they are looking for the one that suits their ambitions, whereas older people are usually more conservative in terms of changes and do not want to resign until there is a strong reason for it. \n",
    "\n",
    "Hence, my initial hypothesis is that monthly income, environment satisfaction, and age are main features that indicate whether the employee will leave a job. "
   ]
  },
  {
   "cell_type": "markdown",
   "id": "b17e83f5",
   "metadata": {},
   "source": [
    "# Data pre-processing"
   ]
  },
  {
   "cell_type": "markdown",
   "id": "29941547",
   "metadata": {},
   "source": [
    "Before applying any machine learning algorithms, I should first transform the data into a format that is easier and effectively processed. Pre-processing involves several steps: data cleaning, namely handling missing or irrelevant parts of the data, transformation of the data in appropriate forms if it is needed, and potentially data reduction. "
   ]
  },
  {
   "cell_type": "markdown",
   "id": "3d3ca91d",
   "metadata": {},
   "source": [
    "In the section below, I take a look at the diversity of values for features, which I have selected as predictors in my model, visualize some of them to facilitate a better grasp of the data, and handle the missing values either by filling in them with some more carefully chosen candidates or by dropping them. "
   ]
  },
  {
   "cell_type": "markdown",
   "id": "32d565cf",
   "metadata": {},
   "source": [
    "### Data vizualization"
   ]
  },
  {
   "cell_type": "markdown",
   "id": "f093cac9",
   "metadata": {},
   "source": [
    "According to Robert Grant, \"Visualizing is not only useful for communicating messages, but also\n",
    "for the analyst to understand their data in depth.\" (2019: 6). Hence, I'm going to vizualize the target and the predictors in my model using the seaborn and matplotlib libraries."
   ]
  },
  {
   "cell_type": "markdown",
   "id": "d4298d67",
   "metadata": {},
   "source": [
    "To visualize the distribution of a monthly income I will plot a histogram and a box plot. "
   ]
  },
  {
   "cell_type": "code",
   "execution_count": 200,
   "id": "5b125ed5",
   "metadata": {},
   "outputs": [
    {
     "data": {
      "text/plain": [
       "<AxesSubplot:ylabel='Frequency'>"
      ]
     },
     "execution_count": 200,
     "metadata": {},
     "output_type": "execute_result"
    },
    {
     "data": {
      "image/png": "[encoded data removed]",
      "text/plain": [
       "<Figure size 432x288 with 1 Axes>"
      ]
     },
     "metadata": {
      "needs_background": "light"
     },
     "output_type": "display_data"
    }
   ],
   "source": [
    "# Plot the monthly-income column as a histogram\n",
    "df[\"monthly-income\"].plot.hist()"
   ]
  },
  {
   "cell_type": "code",
   "execution_count": 201,
   "id": "a225bb76",
   "metadata": {},
   "outputs": [
    {
     "data": {
      "text/plain": [
       "<AxesSubplot:xlabel='monthly-income', ylabel='Count'>"
      ]
     },
     "execution_count": 201,
     "metadata": {},
     "output_type": "execute_result"
    },
    {
     "data": {
      "image/png": "[encoded data removed]",
      "text/plain": [
       "<Figure size 432x288 with 1 Axes>"
      ]
     },
     "metadata": {
      "needs_background": "light"
     },
     "output_type": "display_data"
    }
   ],
   "source": [
    "sns.histplot(df[\"monthly-income\"], kde=True)"
   ]
  },
  {
   "cell_type": "markdown",
   "id": "bd6b349f",
   "metadata": {},
   "source": [
    "I can observe that the shape of monthly income distribution clearly resembles a log-normal shape with the majority of values under 10.000 and the highest value of almost 20.000.\n",
    "\n",
    "To get a better understanding of the distribution and detect outliers in the data, I will also plot a box plot. "
   ]
  },
  {
   "cell_type": "code",
   "execution_count": 202,
   "id": "6f7823bd",
   "metadata": {},
   "outputs": [
    {
     "data": {
      "image/png": "[encoded data removed]",
      "text/plain": [
       "<Figure size 720x360 with 1 Axes>"
      ]
     },
     "metadata": {
      "needs_background": "light"
     },
     "output_type": "display_data"
    }
   ],
   "source": [
    "plt.figure(figsize=(10, 5))\n",
    "plt.xlim(0, 21000)\n",
    "sns.boxplot(x=df['monthly-income'])\n",
    "plt.show()"
   ]
  },
  {
   "cell_type": "markdown",
   "id": "9fcb4b77",
   "metadata": {},
   "source": [
    "From the above box plot one can see that the median is around 5000, and the greatest value is around 17.000. The visualization also shows that there are data points that differ dramatically from all others. These values could cause anomalies in the results obtained through applying machine learning algorithms. However, even though the outliers can potentially reduce the accuracy of the model, they might still be valid data points. Therefore, to decide on whether to remove them or replace them with meaningful value (the 95 percentile, for instance), I will first look at the percentage of extreme points from the entire dataset. In case the percentage is too big, I assume capping outliers at a maximum value is more reasonable."
   ]
  },
  {
   "cell_type": "markdown",
   "id": "ea3dd2be",
   "metadata": {},
   "source": [
    "#### Handling outliers"
   ]
  },
  {
   "cell_type": "markdown",
   "id": "f54a9a1b",
   "metadata": {},
   "source": [
    "To find the exact value exceeding which data points can be treated as outliers, I create a function that returns the 95th percentile."
   ]
  },
  {
   "cell_type": "code",
   "execution_count": 203,
   "id": "d3f12770",
   "metadata": {},
   "outputs": [],
   "source": [
    "# function returns the 95th percentile\n",
    "def highest_five_percent(dataframe, column):\n",
    "    return dataframe[column].quantile(0.95)"
   ]
  },
  {
   "cell_type": "code",
   "execution_count": 281,
   "id": "7b0419d5",
   "metadata": {},
   "outputs": [
    {
     "data": {
      "text/plain": [
       "17794.400000000005"
      ]
     },
     "execution_count": 281,
     "metadata": {},
     "output_type": "execute_result"
    }
   ],
   "source": [
    "highest_five_percent(df, 'monthly-income')"
   ]
  },
  {
   "cell_type": "markdown",
   "id": "884a39cc",
   "metadata": {},
   "source": [
    "After that, I calculate the percentage of points exceeding the maximum value from the entire dataset."
   ]
  },
  {
   "cell_type": "code",
   "execution_count": 205,
   "id": "dcf14c45",
   "metadata": {},
   "outputs": [
    {
     "data": {
      "text/plain": [
       "0.04965986394557823"
      ]
     },
     "execution_count": 205,
     "metadata": {},
     "output_type": "execute_result"
    }
   ],
   "source": [
    "len(df[df['monthly-income'] > 17794.4])/ len(df)"
   ]
  },
  {
   "cell_type": "markdown",
   "id": "08e4c468",
   "metadata": {},
   "source": [
    "Since the outliers make up less than 0.5% of the data, I will choose to drop these data points."
   ]
  },
  {
   "cell_type": "code",
   "execution_count": 282,
   "id": "15fbeff5",
   "metadata": {},
   "outputs": [],
   "source": [
    "df = df[df['monthly-income'] <= 17794.4]"
   ]
  },
  {
   "cell_type": "markdown",
   "id": "d8c34a2d",
   "metadata": {},
   "source": [
    "#### Further visualization"
   ]
  },
  {
   "cell_type": "markdown",
   "id": "31832a99",
   "metadata": {},
   "source": [
    "Since the environment satisfaction is an ordinal variable, to visualize it I will make a bar plot. The feature has 4 different values each of those is represented by the length of each bar."
   ]
  },
  {
   "cell_type": "code",
   "execution_count": 207,
   "id": "543ccfd2",
   "metadata": {},
   "outputs": [
    {
     "data": {
      "image/png": "[encoded data removed]",
      "text/plain": [
       "<Figure size 432x288 with 1 Axes>"
      ]
     },
     "metadata": {
      "needs_background": "light"
     },
     "output_type": "display_data"
    }
   ],
   "source": [
    "barchart = sns.countplot(x=df[\"environment-satisfaction\"], data=df)\n",
    "barchart.set_xlabel('Environment satisfaction')\n",
    "barchart.set_ylabel('Count')\n",
    "barchart.set_title('The distribution of environment satisfaction')\n",
    "plt.show()"
   ]
  },
  {
   "cell_type": "markdown",
   "id": "84eb3977",
   "metadata": {},
   "source": [
    "The visualization above shows that more people are rather satisfied with their work environment (the figures for 3.0 or 4.0 are higher than those for 1.0 and 2.0)."
   ]
  },
  {
   "cell_type": "code",
   "execution_count": 208,
   "id": "15ec5690",
   "metadata": {},
   "outputs": [
    {
     "data": {
      "text/plain": [
       "<AxesSubplot:xlabel='age', ylabel='Count'>"
      ]
     },
     "execution_count": 208,
     "metadata": {},
     "output_type": "execute_result"
    },
    {
     "data": {
      "image/png": "[encoded data removed]",
      "text/plain": [
       "<Figure size 432x288 with 1 Axes>"
      ]
     },
     "metadata": {
      "needs_background": "light"
     },
     "output_type": "display_data"
    }
   ],
   "source": [
    "sns.histplot(df[\"age\"], kde=True)"
   ]
  },
  {
   "cell_type": "markdown",
   "id": "0b2feb52",
   "metadata": {},
   "source": [
    "The histogram above shows the distribution of age in the dataset. Judging from the shape of the figure, the values are normally distributed and range from 18 to 60."
   ]
  },
  {
   "cell_type": "code",
   "execution_count": 209,
   "id": "3c914b47",
   "metadata": {},
   "outputs": [
    {
     "data": {
      "image/png": "[encoded data removed]",
      "text/plain": [
       "<Figure size 432x288 with 1 Axes>"
      ]
     },
     "metadata": {
      "needs_background": "light"
     },
     "output_type": "display_data"
    }
   ],
   "source": [
    "barchart = sns.countplot(x=df[\"attrition\"], data=df)\n",
    "barchart.set_xlabel('Attrition rate')\n",
    "barchart.set_ylabel('Count')\n",
    "barchart.set_title('Attrition rate')\n",
    "plt.show()"
   ]
  },
  {
   "cell_type": "markdown",
   "id": "83b0cad0",
   "metadata": {},
   "source": [
    "The bar plot depicts the number of people who have left their company and the figure for those who have not. Plotting the data shows, that there are less than 250 people, who have quit their job, and more than 1100 people, who have stayed at their company. "
   ]
  },
  {
   "cell_type": "markdown",
   "id": "add5210a",
   "metadata": {},
   "source": [
    "#### Correlations between variables"
   ]
  },
  {
   "cell_type": "markdown",
   "id": "0df93b24",
   "metadata": {},
   "source": [
    "In the following cell I built correlation matrix, each point of which shows the correlation between two given variables."
   ]
  },
  {
   "cell_type": "code",
   "execution_count": 72,
   "id": "baff0dde",
   "metadata": {},
   "outputs": [
    {
     "data": {
      "text/plain": [
       "<AxesSubplot:>"
      ]
     },
     "execution_count": 72,
     "metadata": {},
     "output_type": "execute_result"
    },
    {
     "data": {
      "image/png": "[encoded data removed]",
      "text/plain": [
       "<Figure size 432x288 with 2 Axes>"
      ]
     },
     "metadata": {
      "needs_background": "light"
     },
     "output_type": "display_data"
    }
   ],
   "source": [
    "sns.heatmap(df.corr())"
   ]
  },
  {
   "cell_type": "markdown",
   "id": "55609367",
   "metadata": {},
   "source": [
    "From the heatmap below one can see that there is a high correlation between job level and monthly income which further supports my decision to include only one of those values in my prediction model. However, contrary to my assumption, heatmap shows rather a low correlation between environmental satisfaction and job satisfaction (but still we should take into account that .corr() gives us very basic linear correlations so we cannot conclude that there is not a relationship judging from the measurement close to zero)."
   ]
  },
  {
   "cell_type": "markdown",
   "id": "2330e0e0",
   "metadata": {},
   "source": [
    "### Handling missing values"
   ]
  },
  {
   "cell_type": "markdown",
   "id": "981ef05a",
   "metadata": {},
   "source": [
    "In the following section, I will handle missing data by applying different strategies depending on a type and importance of a feature I'm working with. "
   ]
  },
  {
   "cell_type": "markdown",
   "id": "7580bff3",
   "metadata": {},
   "source": [
    "To get the information about missing values in a specific column, I create a function that takes a column and returns the number of missing values alongside the indices of rows that lack value."
   ]
  },
  {
   "cell_type": "code",
   "execution_count": 134,
   "id": "74241fe0",
   "metadata": {},
   "outputs": [],
   "source": [
    "def get_info_about_missing_values(dataframe, column):\n",
    "    # find specific rows that are missing data on the specific column\n",
    "    mask = dataframe[column].isna()\n",
    "    print(\"The number of missing values:\", len(dataframe[mask]))\n",
    "    return dataframe[mask][column]"
   ]
  },
  {
   "cell_type": "markdown",
   "id": "249aa1b0",
   "metadata": {},
   "source": [
    "Additionally, I make a function that takes a specific column and returns the percentage of missing values from the entire dataset. It may come in handy when I will decide on whether to drop values or fill them with a meaningful value since in case the percentage is too big, it will be more reasonable to choose the second approach."
   ]
  },
  {
   "cell_type": "code",
   "execution_count": null,
   "id": "12cf07d6",
   "metadata": {},
   "outputs": [],
   "source": [
    "def percentage_of_missing_values(dataframe, column):\n",
    "    return len(df.index[dataframe[column].isna()].tolist())/ len(dataframe)"
   ]
  },
  {
   "cell_type": "markdown",
   "id": "ed6ceb9e",
   "metadata": {},
   "source": [
    "First, I inspect the target variable for the presence of missing values."
   ]
  },
  {
   "cell_type": "code",
   "execution_count": 210,
   "id": "fdee1b42",
   "metadata": {},
   "outputs": [
    {
     "name": "stdout",
     "output_type": "stream",
     "text": [
      "The number of missing values: 9\n"
     ]
    },
    {
     "data": {
      "text/plain": [
       "320     NaN\n",
       "587     NaN\n",
       "816     NaN\n",
       "1045    NaN\n",
       "1055    NaN\n",
       "1171    NaN\n",
       "1250    NaN\n",
       "1262    NaN\n",
       "1337    NaN\n",
       "Name: attrition, dtype: object"
      ]
     },
     "execution_count": 210,
     "metadata": {},
     "output_type": "execute_result"
    }
   ],
   "source": [
    "get_info_about_missing_values(df, \"attrition\")"
   ]
  },
  {
   "cell_type": "code",
   "execution_count": 211,
   "id": "3f08d23a",
   "metadata": {},
   "outputs": [
    {
     "name": "stdout",
     "output_type": "stream",
     "text": [
      "Percentage of missing values: 0.006502890173410405\n",
      "Size of the whole dataset: 1384\n"
     ]
    }
   ],
   "source": [
    "print(\"Percentage of missing values:\", percentage_of_missing_values(df, \"attrition\"))\n",
    "print(\"Size of the whole dataset:\", len(df))"
   ]
  },
  {
   "cell_type": "markdown",
   "id": "decd7f6d",
   "metadata": {},
   "source": [
    "There are 9 out of 1384 data points that lack value on the attrition column which is less than 0.7% from the whole dataset. Since this feature is the target variable, it is crucial for the accurate prediction to know precise values for all rows that I will include in my prediction model. Therefore, I create a function that removes rows with missing data."
   ]
  },
  {
   "cell_type": "code",
   "execution_count": 157,
   "id": "4b3797fa",
   "metadata": {},
   "outputs": [],
   "source": [
    "def drop_missing_values(dataframe, column):\n",
    "    idc = df.index[dataframe[column].isna()].tolist()\n",
    "    return dataframe.drop(labels=idc, axis=0)"
   ]
  },
  {
   "cell_type": "code",
   "execution_count": 283,
   "id": "7c5d230d",
   "metadata": {},
   "outputs": [],
   "source": [
    "df = drop_missing_values(df, \"attrition\")"
   ]
  },
  {
   "cell_type": "code",
   "execution_count": 216,
   "id": "c571f72d",
   "metadata": {},
   "outputs": [
    {
     "data": {
      "text/plain": [
       "0.15418181818181817"
      ]
     },
     "execution_count": 216,
     "metadata": {},
     "output_type": "execute_result"
    }
   ],
   "source": [
    "# Total percentage of missing values \n",
    "sum(df.isna().sum())/len(df)"
   ]
  },
  {
   "cell_type": "code",
   "execution_count": 214,
   "id": "29af8a6a",
   "metadata": {},
   "outputs": [
    {
     "data": {
      "text/plain": [
       "age                                11\n",
       "attrition                           0\n",
       "business-travel                     6\n",
       "department                          5\n",
       "distance-from-home                  8\n",
       "education                          11\n",
       "education-field                     8\n",
       "employee-number                     6\n",
       "environment-satisfaction            6\n",
       "gender                             10\n",
       "job-involvement                     9\n",
       "job-level                           6\n",
       "job-role                            5\n",
       "job-satisfaction                   10\n",
       "marial-status                      10\n",
       "monthly-income                      0\n",
       "number-of-companies-worked-at       9\n",
       "over-time                          12\n",
       "last-salary-increase-percentage    11\n",
       "performance-rating                  9\n",
       "relationship-satisfaction           6\n",
       "stock-option-level                  4\n",
       "total-working-years                 9\n",
       "work-life-balance                  11\n",
       "years-at-company                    9\n",
       "years-in-current-role               8\n",
       "years-since-last-promotion          3\n",
       "years-with-current-manager         10\n",
       "dtype: int64"
      ]
     },
     "execution_count": 214,
     "metadata": {},
     "output_type": "execute_result"
    }
   ],
   "source": [
    "# Provides the number of null values within each column\n",
    "df.isna().sum()"
   ]
  },
  {
   "cell_type": "markdown",
   "id": "c1e0d3c0",
   "metadata": {},
   "source": [
    "Using the previous code snippet, I can see the amount of missing values in each column in the dataframe. \n",
    "\n",
    "I observe that there are 11 and 6 missing values for the age and environment satisfaction columns respectively. Since I will be using those columns as predictors in my model, I will need to eliminate or replace the missing values."
   ]
  },
  {
   "cell_type": "markdown",
   "id": "27a8720c",
   "metadata": {},
   "source": [
    "To choose the approach, I need to check the percentage that missing values within those two columns make up from the entire dataset."
   ]
  },
  {
   "cell_type": "code",
   "execution_count": 218,
   "id": "97088213",
   "metadata": {},
   "outputs": [
    {
     "data": {
      "text/plain": [
       "0.012363636363636365"
      ]
     },
     "execution_count": 218,
     "metadata": {},
     "output_type": "execute_result"
    }
   ],
   "source": [
    "percentage_of_missing_values(df, \"age\") + percentage_of_missing_values(df, \"environment-satisfaction\")"
   ]
  },
  {
   "cell_type": "code",
   "execution_count": 221,
   "id": "ad64d188",
   "metadata": {},
   "outputs": [
    {
     "data": {
      "text/plain": [
       "[]"
      ]
     },
     "execution_count": 221,
     "metadata": {},
     "output_type": "execute_result"
    }
   ],
   "source": [
    "df.index[df[\"age\"].isna() & df[\"environment-satisfaction\"].isna()].tolist()"
   ]
  },
  {
   "cell_type": "markdown",
   "id": "8dff5c8f",
   "metadata": {},
   "source": [
    "Since the percentage is roughly 1%, I will choose to remove those rows that lack values."
   ]
  },
  {
   "cell_type": "code",
   "execution_count": 284,
   "id": "fa29627f",
   "metadata": {},
   "outputs": [],
   "source": [
    "df = drop_missing_values(df, \"age\")\n",
    "df = drop_missing_values(df, \"environment-satisfaction\")"
   ]
  },
  {
   "cell_type": "code",
   "execution_count": 224,
   "id": "ed64037c",
   "metadata": {},
   "outputs": [
    {
     "data": {
      "text/plain": [
       "(1358, 28)"
      ]
     },
     "execution_count": 224,
     "metadata": {},
     "output_type": "execute_result"
    }
   ],
   "source": [
    "df.shape"
   ]
  },
  {
   "cell_type": "markdown",
   "id": "c5d03b52",
   "metadata": {},
   "source": [
    "In this section, I have pre-processed all data I plan to use throughout my analysis. By handling missing data and removing outliers, I have ended up with 1358 data points compared to 1470 data points on import."
   ]
  },
  {
   "cell_type": "markdown",
   "id": "9712b051",
   "metadata": {},
   "source": [
    "## Data analysis"
   ]
  },
  {
   "cell_type": "markdown",
   "id": "1b342db9",
   "metadata": {},
   "source": [
    "In this section, I will use the machine learning algorithms to find important features that affect the employee attrition. Therefore I will build a model, namely the Random Forest, to validate my hypothesis. \n",
    "\n",
    "The Random Forest selects the best result by combining multiple decision trees. I have decided to utilize this model as it can directly calculate the importance of each variable, and based on the results, I will be able to test my assumptions about the chosen features.\n",
    "\n",
    "After building the model I will interpret the results by evaluating the performance of model."
   ]
  },
  {
   "cell_type": "markdown",
   "id": "7afdad1f",
   "metadata": {},
   "source": [
    "#### Splitting the data into training sets and test sets\n",
    "Below I create a function that splits my data into training and testing sets. I also set the random state to be equal to 0 to ensure results comparability."
   ]
  },
  {
   "cell_type": "code",
   "execution_count": 225,
   "id": "0302e369",
   "metadata": {},
   "outputs": [],
   "source": [
    "# Splitting the data into training sets and test sets\n",
    "def split_data(dataframe, predictors, target, test_size=0.1):\n",
    "    X = dataframe[predictors]\n",
    "    y = dataframe[target]\n",
    "    X_train, X_test, y_train, y_test = sklearn.model_selection.train_test_split(X, y,\n",
    "    test_size=test_size, random_state=np.random.RandomState(0))\n",
    "    return X_train, X_test, y_train, y_test"
   ]
  },
  {
   "cell_type": "markdown",
   "id": "4601f50d",
   "metadata": {},
   "source": [
    "#### Random Forest Model\n",
    "In the following cell I build Random Forest Model and print out accuracy, precision, recall, f1-score and the feature importances."
   ]
  },
  {
   "cell_type": "code",
   "execution_count": 287,
   "id": "d9e0921a",
   "metadata": {},
   "outputs": [],
   "source": [
    "# Random Forest model\n",
    "def random_forest_classification(dataframe, X, y):\n",
    "    rng = np.random.RandomState(0)\n",
    "    input_features = X\n",
    "    X_train, X_test, y_train, y_test = split_data(dataframe, input_features, y)\n",
    "    model = sklearn.ensemble.RandomForestClassifier(random_state=rng)\n",
    "    model.fit(X_train, y_train)\n",
    "    preds = model.predict(X_test)\n",
    "    feature_importances = \"\\n\\t\".join(f\"{feature}: {importance:.2f}\" for feature, importance in zip(input_features, model.feature_importances_))\n",
    "    print(f\"Feature importances:\\n\\t{feature_importances}\\n\")\n",
    "    print(sklearn.metrics.classification_report(y_test, preds))\n",
    "    return (model, model.feature_importances_)"
   ]
  },
  {
   "cell_type": "code",
   "execution_count": 288,
   "id": "ede74459",
   "metadata": {},
   "outputs": [
    {
     "name": "stdout",
     "output_type": "stream",
     "text": [
      "Feature importances:\n",
      "\tage: 0.31\n",
      "\tmonthly-income: 0.62\n",
      "\tenvironment-satisfaction: 0.06\n",
      "\n",
      "              precision    recall  f1-score   support\n",
      "\n",
      "          No       0.81      0.90      0.85       111\n",
      "         Yes       0.15      0.08      0.11        25\n",
      "\n",
      "    accuracy                           0.75       136\n",
      "   macro avg       0.48      0.49      0.48       136\n",
      "weighted avg       0.69      0.75      0.72       136\n",
      "\n"
     ]
    },
    {
     "data": {
      "text/plain": [
       "RandomForestClassifier(random_state=RandomState(MT19937) at 0x2868E4740)"
      ]
     },
     "execution_count": 288,
     "metadata": {},
     "output_type": "execute_result"
    }
   ],
   "source": [
    "model, feature_importances = random_forest_classification(df.copy(), [\"age\", \"monthly-income\", \"environment-satisfaction\"], \"attrition\")\n",
    "model"
   ]
  },
  {
   "cell_type": "markdown",
   "id": "358e4ba9",
   "metadata": {},
   "source": [
    "#### Visualization"
   ]
  },
  {
   "cell_type": "markdown",
   "id": "36ba76c9",
   "metadata": {},
   "source": [
    "To perform visualization of the obtained result, I use a bar plot.\n",
    "\n",
    "Plotting the data shows feature importances of the model as the blue bars."
   ]
  },
  {
   "cell_type": "code",
   "execution_count": 278,
   "id": "4720e342",
   "metadata": {},
   "outputs": [
    {
     "data": {
      "image/png": "[encoded data removed]",
      "text/plain": [
       "<Figure size 432x288 with 1 Axes>"
      ]
     },
     "metadata": {
      "needs_background": "light"
     },
     "output_type": "display_data"
    }
   ],
   "source": [
    "forest_importances = pd.Series(feature_importances, index=[\"age\", \"monthly income\", \"env satisfaction\"])\n",
    "\n",
    "fig, ax = plt.subplots()\n",
    "forest_importances.plot.bar(ax=ax)\n",
    "ax.set_title(\"Feature importances\")\n",
    "fig.tight_layout()"
   ]
  },
  {
   "cell_type": "markdown",
   "id": "1d268ab3",
   "metadata": {},
   "source": [
    "## Evaluation"
   ]
  },
  {
   "cell_type": "markdown",
   "id": "96c9f33e",
   "metadata": {},
   "source": [
    "The accuracy in a random forest model reflects how many predictions were correct, dividing the number of correct predictions by the total number of predictions.\n",
    "\n",
    "Running the random forest model using the attrition as the target value and 3 features (age, monthly income, and environment satisfaction) as predictors results in a pretty accurrate model with an accuracy of 75%. I can thus conclude that my assumption that monthly income, age, and environment satisfaction predict whether the epmloyee will resign is rather reasonable. However, plotting and printing the results tell that importance of environment satisfaction is only 6% that is rather small compared to 62% and 31% figures for the income and the age.\n",
    "\n",
    "Therefore, I want to explore the possibility of a better than environment satisfaction predictor present in the dataset, and I will additionally build models and observe variations in results from replacing the environment satisfaction variable with another feature in my model. "
   ]
  },
  {
   "cell_type": "markdown",
   "id": "eab07bef",
   "metadata": {},
   "source": [
    "## Revise hypothesis\n",
    "In the following section, I will further explore the metrics of models built by replacing the third predictor with other relevant features from the dataset."
   ]
  },
  {
   "cell_type": "markdown",
   "id": "e1cf1e24",
   "metadata": {},
   "source": [
    "#### Handling missing values"
   ]
  },
  {
   "cell_type": "markdown",
   "id": "42549272",
   "metadata": {},
   "source": [
    "Before applying the algorithm of random forest, I need to handle missing values in all features that I want to include in the model. I want to test how well random forests perform with the following features as a third predictor: \n",
    "- \"job-satisfaction\"\n",
    "- \"distance-from-home\"\n",
    "- \"number-of-companies-worked-at\" "
   ]
  },
  {
   "cell_type": "markdown",
   "id": "e1efd9ad",
   "metadata": {},
   "source": [
    "As I have done before, I first inspect the percentage of missing values within the chosen feature from the entire dataset."
   ]
  },
  {
   "cell_type": "code",
   "execution_count": 247,
   "id": "b6e9e4c6",
   "metadata": {},
   "outputs": [
    {
     "data": {
      "text/plain": [
       "0.007363770250368188"
      ]
     },
     "execution_count": 247,
     "metadata": {},
     "output_type": "execute_result"
    }
   ],
   "source": [
    "js = percentage_of_missing_values(df, \"job-satisfaction\")\n",
    "js"
   ]
  },
  {
   "cell_type": "code",
   "execution_count": 248,
   "id": "cd90c1c9",
   "metadata": {},
   "outputs": [
    {
     "data": {
      "text/plain": [
       "0.005891016200294551"
      ]
     },
     "execution_count": 248,
     "metadata": {},
     "output_type": "execute_result"
    }
   ],
   "source": [
    "dfh = percentage_of_missing_values(df, \"distance-from-home\")\n",
    "dfh"
   ]
  },
  {
   "cell_type": "code",
   "execution_count": 251,
   "id": "0d57daaa",
   "metadata": {},
   "outputs": [
    {
     "data": {
      "text/plain": [
       "0.0066273932253313695"
      ]
     },
     "execution_count": 251,
     "metadata": {},
     "output_type": "execute_result"
    }
   ],
   "source": [
    "num_companies = percentage_of_missing_values(df, \"number-of-companies-worked-at\")\n",
    "num_companies"
   ]
  },
  {
   "cell_type": "code",
   "execution_count": 252,
   "id": "50ac722b",
   "metadata": {},
   "outputs": [
    {
     "data": {
      "text/plain": [
       "0.019882179675994108"
      ]
     },
     "execution_count": 252,
     "metadata": {},
     "output_type": "execute_result"
    }
   ],
   "source": [
    "js + dfh + num_companies"
   ]
  },
  {
   "cell_type": "code",
   "execution_count": 253,
   "id": "0b9b8620",
   "metadata": {},
   "outputs": [
    {
     "data": {
      "text/plain": [
       "[]"
      ]
     },
     "execution_count": 253,
     "metadata": {},
     "output_type": "execute_result"
    }
   ],
   "source": [
    "df.index[df[\"job-satisfaction\"].isna()&df[\"distance-from-home\"].isna()&df[\"number-of-companies-worked-at\"].isna()].tolist()"
   ]
  },
  {
   "cell_type": "markdown",
   "id": "f2aa107d",
   "metadata": {},
   "source": [
    "I observe that missing values within three chosen features make up approximately 2% out of all data points in total. Therefore, I can eliminate missing values by applying the drop_missing_values function, defined in the previous section. "
   ]
  },
  {
   "cell_type": "code",
   "execution_count": 254,
   "id": "78d2bd3a",
   "metadata": {},
   "outputs": [
    {
     "data": {
      "text/plain": [
       "(1331, 28)"
      ]
     },
     "execution_count": 254,
     "metadata": {},
     "output_type": "execute_result"
    }
   ],
   "source": [
    "df = drop_missing_values(df, \"job-satisfaction\")\n",
    "df = drop_missing_values(df, \"distance-from-home\")\n",
    "df = drop_missing_values(df, \"number-of-companies-worked-at\")\n",
    "df.shape"
   ]
  },
  {
   "cell_type": "markdown",
   "id": "322029cc",
   "metadata": {},
   "source": [
    "By handling missing data, I have ended up with 1331 data points compared to 1358 data points for the previous section."
   ]
  },
  {
   "cell_type": "markdown",
   "id": "b52f96f9",
   "metadata": {},
   "source": [
    "#### Random Forest Models"
   ]
  },
  {
   "cell_type": "code",
   "execution_count": 263,
   "id": "92b813a2",
   "metadata": {},
   "outputs": [
    {
     "name": "stdout",
     "output_type": "stream",
     "text": [
      "Feature importances:\n",
      "\tage: 0.29\n",
      "\tmonthly-income: 0.49\n",
      "\tdistance-from-home: 0.22\n",
      "\n",
      "              precision    recall  f1-score   support\n",
      "\n",
      "          No       0.92      0.95      0.93       119\n",
      "         Yes       0.45      0.33      0.38        15\n",
      "\n",
      "    accuracy                           0.88       134\n",
      "   macro avg       0.69      0.64      0.66       134\n",
      "weighted avg       0.87      0.88      0.87       134\n",
      "\n"
     ]
    },
    {
     "data": {
      "text/plain": [
       "RandomForestClassifier(random_state=RandomState(MT19937) at 0x2859B8D40)"
      ]
     },
     "execution_count": 263,
     "metadata": {},
     "output_type": "execute_result"
    }
   ],
   "source": [
    "model_v2, importances_v2 = random_forest_classification(df.copy(), [\"age\", \"monthly-income\", \"distance-from-home\"], \"attrition\")\n",
    "model_v2"
   ]
  },
  {
   "cell_type": "code",
   "execution_count": 264,
   "id": "44377737",
   "metadata": {},
   "outputs": [
    {
     "name": "stdout",
     "output_type": "stream",
     "text": [
      "Feature importances:\n",
      "\tage: 0.30\n",
      "\tmonthly-income: 0.65\n",
      "\tjob-satisfaction: 0.06\n",
      "\n",
      "              precision    recall  f1-score   support\n",
      "\n",
      "          No       0.92      0.94      0.93       119\n",
      "         Yes       0.42      0.33      0.37        15\n",
      "\n",
      "    accuracy                           0.87       134\n",
      "   macro avg       0.67      0.64      0.65       134\n",
      "weighted avg       0.86      0.87      0.87       134\n",
      "\n"
     ]
    },
    {
     "data": {
      "text/plain": [
       "RandomForestClassifier(random_state=RandomState(MT19937) at 0x2859B8E40)"
      ]
     },
     "execution_count": 264,
     "metadata": {},
     "output_type": "execute_result"
    }
   ],
   "source": [
    "model_v3, importances_v3 = random_forest_classification(df.copy(), [\"age\", \"monthly-income\", \"job-satisfaction\"], \"attrition\")\n",
    "model_v3"
   ]
  },
  {
   "cell_type": "code",
   "execution_count": 265,
   "id": "479d102e",
   "metadata": {},
   "outputs": [
    {
     "name": "stdout",
     "output_type": "stream",
     "text": [
      "Feature importances:\n",
      "\tage: 0.29\n",
      "\tmonthly-income: 0.61\n",
      "\tnumber-of-companies-worked-at: 0.10\n",
      "\n",
      "              precision    recall  f1-score   support\n",
      "\n",
      "          No       0.90      0.95      0.92       119\n",
      "         Yes       0.25      0.13      0.17        15\n",
      "\n",
      "    accuracy                           0.86       134\n",
      "   macro avg       0.57      0.54      0.55       134\n",
      "weighted avg       0.82      0.86      0.84       134\n",
      "\n"
     ]
    },
    {
     "data": {
      "text/plain": [
       "RandomForestClassifier(random_state=RandomState(MT19937) at 0x2868E4040)"
      ]
     },
     "execution_count": 265,
     "metadata": {},
     "output_type": "execute_result"
    }
   ],
   "source": [
    "model_v4, importances_v4 = random_forest_classification(df.copy(), [\"age\", \"monthly-income\", \"number-of-companies-worked-at\"], \"attrition\")\n",
    "model_v4"
   ]
  },
  {
   "cell_type": "markdown",
   "id": "e1c3d4dc",
   "metadata": {},
   "source": [
    "#### Visualizations"
   ]
  },
  {
   "cell_type": "markdown",
   "id": "4f7f48d8",
   "metadata": {},
   "source": [
    "To perform visualizations for the obtained results, I will make bar plots where the bar's length represents the percentage of importance of the corresponding feature in prediction."
   ]
  },
  {
   "cell_type": "code",
   "execution_count": 275,
   "id": "c5ec24a0",
   "metadata": {},
   "outputs": [
    {
     "data": {
      "image/png": "[encoded data removed]",
      "text/plain": [
       "<Figure size 432x288 with 1 Axes>"
      ]
     },
     "metadata": {
      "needs_background": "light"
     },
     "output_type": "display_data"
    }
   ],
   "source": [
    "barplot_v2 = pd.Series(importances_v2, index=[\"age\", \"income\", \"distance\"])\n",
    "\n",
    "fig, ax = plt.subplots()\n",
    "barplot_v2.plot.bar(ax=ax)\n",
    "ax.set_title(\"Feature importances\")\n",
    "fig.tight_layout()"
   ]
  },
  {
   "cell_type": "code",
   "execution_count": 274,
   "id": "875bef38",
   "metadata": {},
   "outputs": [
    {
     "data": {
      "image/png": "[encoded data removed]",
      "text/plain": [
       "<Figure size 432x288 with 1 Axes>"
      ]
     },
     "metadata": {
      "needs_background": "light"
     },
     "output_type": "display_data"
    }
   ],
   "source": [
    "barplot_v3 = pd.Series(importances_v2, index=[\"age\", \"income\", \"job satisfaction\"])\n",
    "\n",
    "fig, ax = plt.subplots()\n",
    "barplot_v3.plot.bar(ax=ax)\n",
    "ax.set_title(\"Feature importances\")\n",
    "fig.tight_layout()"
   ]
  },
  {
   "cell_type": "code",
   "execution_count": 273,
   "id": "e4a2a924",
   "metadata": {},
   "outputs": [
    {
     "data": {
      "image/png": "[encoded data removed]",
      "text/plain": [
       "<Figure size 432x288 with 1 Axes>"
      ]
     },
     "metadata": {
      "needs_background": "light"
     },
     "output_type": "display_data"
    }
   ],
   "source": [
    "barplot_v4 = pd.Series(importances_v2, index=[\"age\", \"income\", \"number of companies\"])\n",
    "\n",
    "fig, ax = plt.subplots()\n",
    "barplot_v4.plot.bar(ax=ax)\n",
    "ax.set_title(\"Feature importances\")\n",
    "fig.tight_layout()"
   ]
  },
  {
   "cell_type": "markdown",
   "id": "0a47becb",
   "metadata": {},
   "source": [
    "### Discussion"
   ]
  },
  {
   "cell_type": "markdown",
   "id": "e4a6d517",
   "metadata": {},
   "source": [
    "According to the results obtained in the previous section, I can conclude that the most accurate prediction is obtained by the age, monthly income, and distance from home features. The accurancy of the corresponding model achieves 88%. This result seems reasonable to me since long distance to work indeed may cause inconvience and people are prone to change a job for the one that locates closer to their place. Plotting the bar chart for that model also shows, that the contribution of each feature in explaining the target variable does not differ dramatically.\n",
    "\n",
    "Using the Random Forest Model with job satisfaction produces the better accuracy score of 87% compared to the initial model's accuracy of 75%. However, the job satisfaction variable contributes to explaining the target variable the same as the the environmental satisfaction variable (6%).\n",
    "\n",
    "\n",
    "Finally, creating the Random Forest Model with the number-of-companies-worked-at results in the accuracy of 86%. The feature itself has the importance value of 10%. Thus, I can conclude this variable is better predictor than the intial one (environment satisfaction). The potential explanation is that people who have already changed several companies are more likely to finally find the right place and appropriate job and thus are less likely to quit than those who worked only for one company."
   ]
  },
  {
   "cell_type": "markdown",
   "id": "541fe1ad",
   "metadata": {},
   "source": [
    "## Conclusion"
   ]
  },
  {
   "cell_type": "markdown",
   "id": "315f97ef",
   "metadata": {},
   "source": [
    "I have started this paper by exploring and describing the data. After getting a grasp of the dataset, I have intitally stated the research question asking which factors have the highest influence on the employee attrition variable. Aftewards, I have built the following hypothesis: \"Monthly income, environment satisfaction, and age are main features that indicate whether the employee will leave a job\".\n",
    "\n",
    "To test my hypothesis, I first visualized and preprocessed my data. Data preprocessing included handling missing values and removing outliers. After that, I fitted my model into a RandomForestClassifier object. While investigating the results that initial model produced, I have found out that one of the variable, namely environment satisfaction, has a low feature importance value.\n",
    "\n",
    "Furthermore, I have explored the importance of other relevant features from the dataset. During the exploration, I have found out that the distance-from-home and number-of-companies-worked-at are actually even better predictors of attrition than environment satisfaction. Additionally, I observed that the most accurate prediction was obtained by the combination of the following three variables: age, monthly income, and distance from home. Hence, my initial hypothesis was only partly valid. This data analysis also implies that monthly income is the best predictor of attrition rate, followed by an age of an employee."
   ]
  },
  {
   "cell_type": "markdown",
   "id": "7eb21260",
   "metadata": {},
   "source": [
    "## References"
   ]
  },
  {
   "cell_type": "markdown",
   "id": "28655cda",
   "metadata": {},
   "source": [
    "Grant, R. (2019) Data Visualization - Charts, Maps, and Interactive Graphics. Taylor & Francis Group, LLC."
   ]
  }
 ],
 "metadata": {
  "kernelspec": {
   "display_name": "Python 3 (ipykernel)",
   "language": "python",
   "name": "python3"
  },
  "language_info": {
   "codemirror_mode": {
    "name": "ipython",
    "version": 3
   },
   "file_extension": ".py",
   "mimetype": "text/x-python",
   "name": "python",
   "nbconvert_exporter": "python",
   "pygments_lexer": "ipython3",
   "version": "3.8.9"
  }
 },
 "nbformat": 4,
 "nbformat_minor": 5
}
